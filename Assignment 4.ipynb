{
 "cells": [
  {
   "cell_type": "code",
   "execution_count": null,
   "id": "a82af1ce-e8e9-49d9-af98-5a2ec9857e1d",
   "metadata": {},
   "outputs": [],
   "source": [
    "# Exercise 1: Create a function that takes in three arguments, two of which are optional. The first argument should be a required positional argument, the second argument should be a keyword argument with a default value of 10, and the third argument should be a keyword argument with a default value of None. The function should print the sum of the first two arguments if the third argument is None, and print the product of all three arguments if the third argument is not None."
   ]
  },
  {
   "cell_type": "code",
   "execution_count": 9,
   "id": "a45a314a-2988-46b7-8ce3-72c70a29ee80",
   "metadata": {},
   "outputs": [],
   "source": [
    "def function(a, b=10, c=None):\n",
    "    if c is None:\n",
    "        print(\"Sum:\", a + b)\n",
    "    else:\n",
    "        print(\"Product:\", a * b * c)"
   ]
  },
  {
   "cell_type": "code",
   "execution_count": 13,
   "id": "31db733d-196f-47ac-b5b0-b0d34af16c42",
   "metadata": {},
   "outputs": [
    {
     "name": "stdout",
     "output_type": "stream",
     "text": [
      "Product: 864\n"
     ]
    }
   ],
   "source": [
    "function(12,24,3)"
   ]
  },
  {
   "cell_type": "code",
   "execution_count": 15,
   "id": "ffb534e4-676e-421d-bdb3-ae38b6e77d13",
   "metadata": {},
   "outputs": [],
   "source": [
    "# Exercise 2: Write a function that takes in a list of strings and returns a new list with only the strings that have a length greater than or equal to 5"
   ]
  },
  {
   "cell_type": "code",
   "execution_count": 100,
   "id": "367fde4e-aacd-41e2-b951-a8fa80a96c3c",
   "metadata": {},
   "outputs": [
    {
     "name": "stdout",
     "output_type": "stream",
     "text": [
      "['Lesin', 'ubaidullah', 'Ashnad', 'Irfan']\n"
     ]
    }
   ],
   "source": [
    "string_list = ['Lesin','rino','ubaidullah','Ashnad','Umer','Irfan','Aadi','joel']\n",
    "newstring_list = [i for i in string_list if len(i) >=5]\n",
    "print(newstring_list)"
   ]
  },
  {
   "cell_type": "code",
   "execution_count": null,
   "id": "00ef2221-48e4-4b7a-9a94-abbaebc3e4cd",
   "metadata": {},
   "outputs": [],
   "source": [
    "# Exercise 3: Write a Python program to evaluate a given mathematical expression using the eval() function. expression = \"3 * 5 + 2\""
   ]
  },
  {
   "cell_type": "code",
   "execution_count": 104,
   "id": "dad219bf-eec8-4ad4-a7ca-8dfb56c12694",
   "metadata": {},
   "outputs": [
    {
     "name": "stdin",
     "output_type": "stream",
     "text": [
      "Enter the expression 3*5+2\n"
     ]
    },
    {
     "name": "stdout",
     "output_type": "stream",
     "text": [
      "The result of the expression is: 17\n"
     ]
    }
   ],
   "source": [
    "expression = input('Enter the expression')\n",
    "result = eval(expression)\n",
    "print('The result of the expression is:',result)"
   ]
  },
  {
   "cell_type": "code",
   "execution_count": 106,
   "id": "06e4c3e4-4369-4156-b17a-834ef8bf77e1",
   "metadata": {},
   "outputs": [],
   "source": [
    "# Exercise 4: Write a Python program to filter out the prime numbers from a given list of integers using the filter() function. "
   ]
  },
  {
   "cell_type": "code",
   "execution_count": 116,
   "id": "7fa7a2aa-e24a-46f3-a3c8-1fec8d380351",
   "metadata": {},
   "outputs": [
    {
     "name": "stdout",
     "output_type": "stream",
     "text": [
      "[2, 2, 3, 7, 3, 353, 3, 3]\n"
     ]
    }
   ],
   "source": [
    "def is_prime(n):\n",
    "    if n < 2:\n",
    "        return False\n",
    "    for i in range(2, int(n**0.5) + 1):\n",
    "        if n % i == 0:\n",
    "            return False\n",
    "    return True\n",
    "\n",
    "filter_num = [2,4,2,6,3,7,33,46,345,46,456,3,35,353,234,3,545,674,35,3]\n",
    "\n",
    "prime_numbers = list(filter(is_prime, filter_num))\n",
    "\n",
    "print(prime_numbers)"
   ]
  },
  {
   "cell_type": "code",
   "execution_count": 120,
   "id": "4aa0a909-90cf-4914-9e62-08f2f6274114",
   "metadata": {},
   "outputs": [],
   "source": [
    "# Exercise 5: Write a Python program to convert a list of strings to uppercase using the map() function."
   ]
  },
  {
   "cell_type": "code",
   "execution_count": 124,
   "id": "07826a92-6d72-4790-914d-7a42292d3709",
   "metadata": {},
   "outputs": [
    {
     "name": "stdout",
     "output_type": "stream",
     "text": [
      "['LESIN', 'RINO', 'UBAIDULLAH', 'ASHNAD', 'UMER', 'IRFAN', 'AADI', 'JOEL']\n"
     ]
    }
   ],
   "source": [
    "string_list = ['Lesin','rino','ubaidullah','Ashnad','Umer','Irfan','Aadi','joel']\n",
    "uppercase_list = list(map(str.upper,string_list))\n",
    "print(uppercase_list)"
   ]
  },
  {
   "cell_type": "code",
   "execution_count": null,
   "id": "c3542320-d6c6-4547-b22d-4869b91a2f15",
   "metadata": {},
   "outputs": [],
   "source": []
  }
 ],
 "metadata": {
  "kernelspec": {
   "display_name": "Python [conda env:base] *",
   "language": "python",
   "name": "conda-base-py"
  },
  "language_info": {
   "codemirror_mode": {
    "name": "ipython",
    "version": 3
   },
   "file_extension": ".py",
   "mimetype": "text/x-python",
   "name": "python",
   "nbconvert_exporter": "python",
   "pygments_lexer": "ipython3",
   "version": "3.12.7"
  }
 },
 "nbformat": 4,
 "nbformat_minor": 5
}
