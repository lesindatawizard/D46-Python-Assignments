{
 "cells": [
  {
   "cell_type": "code",
   "execution_count": 1,
   "id": "8f78a351-0d07-4f87-8cfe-9ba1b3dad3b8",
   "metadata": {},
   "outputs": [],
   "source": [
    "# Exercise Create a Python module named employee that contains a class Employee with attributes name, salary and methods get_name() and get_salary(). Write a program to use this module to create an object of the Employee class and display its name and salary."
   ]
  },
  {
   "cell_type": "code",
   "execution_count": 23,
   "id": "72e106f7-4876-4b07-9afd-0da7a3435b85",
   "metadata": {},
   "outputs": [],
   "source": [
    "class Employee:\n",
    "    def __init__(self,name,salary):\n",
    "        self.name = name\n",
    "        self.salary = salary\n",
    "    def getname(self):\n",
    "        return f'The name of the employee is {self.name}'\n",
    "    def getsalary(self):\n",
    "        return f'The Salary of the employee {self.name} is {self.salary}'"
   ]
  },
  {
   "cell_type": "code",
   "execution_count": 25,
   "id": "9d4bf531-7a4f-41e3-af26-59279406e2b1",
   "metadata": {},
   "outputs": [],
   "source": [
    "Employee1 = Employee('Raghav',23000)\n",
    "Employee2 = Employee('Lesin',25000)"
   ]
  },
  {
   "cell_type": "code",
   "execution_count": 29,
   "id": "deebce6b-81c4-4084-bb18-e6ba464685a5",
   "metadata": {},
   "outputs": [
    {
     "name": "stdout",
     "output_type": "stream",
     "text": [
      "The name of the employee is Raghav and The Salary of the employee Raghav is 23000\n",
      "The name of the employee is Lesin and The Salary of the employee Lesin is 25000\n"
     ]
    }
   ],
   "source": [
    "print(Employee1.getname(),'and',Employee1.getsalary())\n",
    "print(Employee2.getname(),'and',Employee2.getsalary())"
   ]
  },
  {
   "cell_type": "code",
   "execution_count": null,
   "id": "9ac5696e-0232-4261-941c-1524e9611975",
   "metadata": {},
   "outputs": [],
   "source": []
  }
 ],
 "metadata": {
  "kernelspec": {
   "display_name": "Python [conda env:base] *",
   "language": "python",
   "name": "conda-base-py"
  },
  "language_info": {
   "codemirror_mode": {
    "name": "ipython",
    "version": 3
   },
   "file_extension": ".py",
   "mimetype": "text/x-python",
   "name": "python",
   "nbconvert_exporter": "python",
   "pygments_lexer": "ipython3",
   "version": "3.12.7"
  }
 },
 "nbformat": 4,
 "nbformat_minor": 5
}
