{
 "cells": [
  {
   "cell_type": "code",
   "execution_count": null,
   "id": "44b5c9b4-ef22-4b17-b7b7-ba81829559d9",
   "metadata": {},
   "outputs": [],
   "source": [
    "#Exercise 2 A certain cinema currently sells tickets for a full price of 6 pounds, but always sells tickets for half price to people who are less than 16 years old, and for a third of the price for people who are 60 years old or more."
   ]
  },
  {
   "cell_type": "code",
   "execution_count": 207,
   "id": "8c479b1b-8845-4f9f-8242-a50553b4e4c7",
   "metadata": {},
   "outputs": [
    {
     "name": "stdin",
     "output_type": "stream",
     "text": [
      "Please enter your age:  54\n"
     ]
    },
    {
     "name": "stdout",
     "output_type": "stream",
     "text": [
      "Your Ticket Costs $6.00\n"
     ]
    }
   ],
   "source": [
    "num = int(input(\"Please enter your age: \"))\n",
    "\n",
    "if num >= 60:\n",
    "    print(\"Your Ticket Costs $2.00\")\n",
    "elif num < 16:\n",
    "    print(\"Your Ticket Costs $3.00\")\n",
    "else:\n",
    "    print(\"Your Ticket Costs $6.00\")\n"
   ]
  },
  {
   "cell_type": "code",
   "execution_count": null,
   "id": "a3793f1b-b0d6-4d31-810e-0885e97bc0f8",
   "metadata": {
    "jupyter": {
     "source_hidden": true
    }
   },
   "outputs": [],
   "source": [
    "#Exercise 4 Write a Python program to receive 3 numbers from the user and print the greatest among them."
   ]
  },
  {
   "cell_type": "code",
   "execution_count": 11,
   "id": "e7633516-b001-4669-b63e-d3d5c28bf9f0",
   "metadata": {},
   "outputs": [
    {
     "name": "stdin",
     "output_type": "stream",
     "text": [
      "Type the Number 1 354345646456\n",
      "Type the Number 2 3\n",
      "Type the Number 3 7654564\n"
     ]
    },
    {
     "name": "stdout",
     "output_type": "stream",
     "text": [
      "The greatest number is 354345646456\n"
     ]
    }
   ],
   "source": [
    "num1 = int(input(\"Type the Number 1\"))\n",
    "num2 = int(input(\"Type the Number 2\"))\n",
    "num3 = int(input(\"Type the Number 3\"))\n",
    "if num3 < num1 > num2:\n",
    "           print(\"The greatest number is\",num1)\n",
    "elif num1 < num2 > num3:\n",
    "           print(\"The greatest number is\",num2)\n",
    "if num1 < num3 > num2:\n",
    "           print(\"The greatest number is\",num3)"
   ]
  },
  {
   "cell_type": "code",
   "execution_count": 13,
   "id": "6eb88c77-d82f-4cb2-a35b-7f2974d9b8db",
   "metadata": {},
   "outputs": [],
   "source": [
    "#Exercise 5 Find the factorial of a given number using loops(note the number is received from the user)"
   ]
  },
  {
   "cell_type": "code",
   "execution_count": 17,
   "id": "3ecc03ef-16f8-4fb2-a106-80183466b393",
   "metadata": {},
   "outputs": [
    {
     "name": "stdin",
     "output_type": "stream",
     "text": [
      "Enter a number:  4\n"
     ]
    },
    {
     "name": "stdout",
     "output_type": "stream",
     "text": [
      "Factorial of 4 is 24\n"
     ]
    }
   ],
   "source": [
    "num = int(input(\"Enter a number: \"))\n",
    "factorial = 1\n",
    "if num < 0:\n",
    "    print(\"Factorial is not defined.\")\n",
    "elif num == 0:\n",
    "    print(\"Factorial of 0 is 1\")\n",
    "else:\n",
    "    for i in range(1, num + 1):\n",
    "        factorial *= i\n",
    "    print(f\"Factorial of {num} is {factorial}\")"
   ]
  },
  {
   "cell_type": "code",
   "execution_count": 19,
   "id": "a721e1e9-6ead-405f-95f8-b9c878af7e3a",
   "metadata": {},
   "outputs": [],
   "source": [
    "#Exercise 6 Reverse a number using while loop"
   ]
  },
  {
   "cell_type": "code",
   "execution_count": 5,
   "id": "2be9c82c-148d-482e-9db3-dd39e1db6a0c",
   "metadata": {},
   "outputs": [
    {
     "name": "stdin",
     "output_type": "stream",
     "text": [
      "Enter a number to reverse 0\n"
     ]
    },
    {
     "name": "stdout",
     "output_type": "stream",
     "text": [
      "The number cannot be reversed due to one digit\n"
     ]
    }
   ],
   "source": [
    "num = int(input(\"Enter a number to reverse\"))\n",
    "reversed_num = int(str(num)[::-1])\n",
    "while reversed_num >= 0:\n",
    "    if reversed_num > 9:\n",
    "        print(\"The reversed number is\",reversed_num)\n",
    "        break\n",
    "    else: \n",
    "        reversed_num < 9\n",
    "        print(\"The number cannot be reversed due to one digit\")\n",
    "        break"
   ]
  },
  {
   "cell_type": "code",
   "execution_count": 7,
   "id": "22030fac-825b-45b7-8aa8-cb6a2ff04adc",
   "metadata": {},
   "outputs": [],
   "source": [
    "#Exercise 7 Finding the multiples of a number using loop"
   ]
  },
  {
   "cell_type": "code",
   "execution_count": 5,
   "id": "af5c1baf-e62a-4adc-9e73-c2b3e24297fb",
   "metadata": {},
   "outputs": [
    {
     "name": "stdin",
     "output_type": "stream",
     "text": [
      "Enter a number:  5\n",
      "Multiple count:  6\n"
     ]
    },
    {
     "name": "stdout",
     "output_type": "stream",
     "text": [
      "Multiples of 5:\n",
      "5\n",
      "10\n",
      "15\n",
      "20\n",
      "25\n",
      "30\n"
     ]
    }
   ],
   "source": [
    "num = int(input(\"Enter a number: \"))\n",
    "limit = int(input(\"Multiple count: \"))\n",
    "\n",
    "if num > 0:\n",
    "    print(f\"Multiples of {num}:\")\n",
    "    for i in range(1, limit + 1):\n",
    "        print(num * i)\n",
    "elif num == 0:\n",
    "    print(\"Multiplication is not available for zero.\")\n",
    "else:\n",
    "    print(\"Negative numbers are not allowed.\")"
   ]
  },
  {
   "cell_type": "code",
   "execution_count": 7,
   "id": "02de3c65-b1d7-4b96-8f86-2925a20dce93",
   "metadata": {},
   "outputs": [],
   "source": [
    "#Exercise 8 Write a program to print the inputted value as it is and break the loop if the value is 'done'."
   ]
  },
  {
   "cell_type": "code",
   "execution_count": 41,
   "id": "ba6b6a8d-d91d-4508-bb26-f48654013428",
   "metadata": {},
   "outputs": [
    {
     "name": "stdin",
     "output_type": "stream",
     "text": [
      "Enter the details: Hello World\n"
     ]
    },
    {
     "name": "stdout",
     "output_type": "stream",
     "text": [
      "Hello World\n"
     ]
    },
    {
     "name": "stdin",
     "output_type": "stream",
     "text": [
      "Enter the details: Finished\n"
     ]
    },
    {
     "name": "stdout",
     "output_type": "stream",
     "text": [
      "Finished\n"
     ]
    },
    {
     "name": "stdin",
     "output_type": "stream",
     "text": [
      "Enter the details: Done\n"
     ]
    }
   ],
   "source": [
    "while True:  \n",
    "    Details = input(\"Enter the details:\")\n",
    "    if Details == \"Done\":\n",
    "        break  \n",
    "    else:\n",
    "        print(Details)"
   ]
  },
  {
   "cell_type": "code",
   "execution_count": 43,
   "id": "22ad8011-2b85-4ce2-96f0-d39192327b83",
   "metadata": {},
   "outputs": [],
   "source": [
    "#Exercise 9 Write a program that prints the numbers from 1 to 10."
   ]
  },
  {
   "cell_type": "code",
   "execution_count": 75,
   "id": "05a327d3-5d93-494f-9efe-316122f70c99",
   "metadata": {},
   "outputs": [
    {
     "name": "stdout",
     "output_type": "stream",
     "text": [
      "1\n",
      "2\n",
      "Fizz\n",
      "4\n",
      "Buzz\n",
      "Fizz\n",
      "7\n",
      "8\n",
      "Fizz\n",
      "Buzz\n",
      "11\n",
      "Fizz\n",
      "13\n",
      "14\n",
      "FizzBuzz\n"
     ]
    }
   ],
   "source": [
    "for num in range(1, 16):\n",
    "    if num % 3 == 0 and num % 5 == 0:\n",
    "        print(\"FizzBuzz\")  \n",
    "    elif num % 3 == 0:\n",
    "        print(\"Fizz\")  \n",
    "    elif num % 5 == 0:\n",
    "        print(\"Buzz\")  \n",
    "    else:\n",
    "        print(num)  "
   ]
  },
  {
   "cell_type": "code",
   "execution_count": 77,
   "id": "fda09227-c9b0-4bc3-9255-d17a56346a89",
   "metadata": {},
   "outputs": [],
   "source": [
    "#Exercise 10 Write a program to print the following pattern: 5 4 3 2 1 4 3 2 1 3 2 1 2 1 1."
   ]
  },
  {
   "cell_type": "code",
   "execution_count": 205,
   "id": "98f05f84-4793-4326-80ce-b4b331636bc7",
   "metadata": {},
   "outputs": [
    {
     "name": "stdout",
     "output_type": "stream",
     "text": [
      "(5, 4, 3, 2, 1, 4, 3, 2, 1, 3, 2, 1, 2, 1, 1)\n"
     ]
    }
   ],
   "source": [
    "num = (1,2,3,4,5)\n",
    "print(num[::-1] + num[-2::-1] + num[-3::-1] + num[-4::-1] + num[-5::-1])"
   ]
  }
 ],
 "metadata": {
  "kernelspec": {
   "display_name": "Python [conda env:base] *",
   "language": "python",
   "name": "conda-base-py"
  },
  "language_info": {
   "codemirror_mode": {
    "name": "ipython",
    "version": 3
   },
   "file_extension": ".py",
   "mimetype": "text/x-python",
   "name": "python",
   "nbconvert_exporter": "python",
   "pygments_lexer": "ipython3",
   "version": "3.12.7"
  }
 },
 "nbformat": 4,
 "nbformat_minor": 5
}
