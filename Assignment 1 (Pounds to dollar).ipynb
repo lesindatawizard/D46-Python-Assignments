{
 "cells": [
  {
   "cell_type": "code",
   "execution_count": 17,
   "id": "5f9cdd47-73a6-4571-b185-2c195c99da48",
   "metadata": {},
   "outputs": [
    {
     "name": "stdin",
     "output_type": "stream",
     "text": [
      "Please enter amount in pounds: 67\n"
     ]
    },
    {
     "name": "stdout",
     "output_type": "stream",
     "text": [
      "67 £ are 84.42 $\n"
     ]
    }
   ],
   "source": [
    "GBP = (input(\"Please enter amount in pounds:\"))\n",
    "USD = int(GBP) * 1.26\n",
    "print(GBP,\"£\", \"are\", USD,\"$\")"
   ]
  },
  {
   "cell_type": "code",
   "execution_count": null,
   "id": "c9e18d76-b1e5-435d-91ca-3b0234e94519",
   "metadata": {},
   "outputs": [],
   "source": []
  }
 ],
 "metadata": {
  "kernelspec": {
   "display_name": "Python [conda env:base] *",
   "language": "python",
   "name": "conda-base-py"
  },
  "language_info": {
   "codemirror_mode": {
    "name": "ipython",
    "version": 3
   },
   "file_extension": ".py",
   "mimetype": "text/x-python",
   "name": "python",
   "nbconvert_exporter": "python",
   "pygments_lexer": "ipython3",
   "version": "3.12.7"
  }
 },
 "nbformat": 4,
 "nbformat_minor": 5
}
