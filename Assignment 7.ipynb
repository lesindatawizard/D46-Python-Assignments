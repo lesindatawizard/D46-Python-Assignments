{
 "cells": [
  {
   "cell_type": "code",
   "execution_count": null,
   "id": "733ebbd5-3f39-4845-810e-5517ee4a7fc7",
   "metadata": {},
   "outputs": [],
   "source": [
    "# Exercise 1: Create a numpy array containing the numbers from 1 to 10, and then reshape it to a 2x5 matrix."
   ]
  },
  {
   "cell_type": "code",
   "execution_count": 5,
   "id": "6f10014e-8d7c-49eb-8f7a-41bfa5c78024",
   "metadata": {},
   "outputs": [],
   "source": [
    "import numpy as np"
   ]
  },
  {
   "cell_type": "code",
   "execution_count": 7,
   "id": "88d7a2b1-b1fe-49f9-b61a-0ba12eb433e3",
   "metadata": {},
   "outputs": [
    {
     "data": {
      "text/plain": [
       "array([ 1,  2,  3,  4,  5,  6,  7,  8,  9, 10])"
      ]
     },
     "execution_count": 7,
     "metadata": {},
     "output_type": "execute_result"
    }
   ],
   "source": [
    "array_1 = np.array([1,2,3,4,5,6,7,8,9,10])\n",
    "array_1"
   ]
  },
  {
   "cell_type": "code",
   "execution_count": 13,
   "id": "3b833b04-7f9b-432b-a8c1-c00a0841dbf3",
   "metadata": {},
   "outputs": [
    {
     "data": {
      "text/plain": [
       "numpy.ndarray"
      ]
     },
     "execution_count": 13,
     "metadata": {},
     "output_type": "execute_result"
    }
   ],
   "source": [
    "type(array_1)"
   ]
  },
  {
   "cell_type": "code",
   "execution_count": 23,
   "id": "a5cb1259-ff8f-463c-b8a9-2fc318c2a620",
   "metadata": {},
   "outputs": [
    {
     "data": {
      "text/plain": [
       "array([[ 1,  2,  3,  4,  5],\n",
       "       [ 6,  7,  8,  9, 10]])"
      ]
     },
     "execution_count": 23,
     "metadata": {},
     "output_type": "execute_result"
    }
   ],
   "source": [
    "array_2 = array_1.reshape(2,5)\n",
    "array_2\n"
   ]
  },
  {
   "cell_type": "code",
   "execution_count": 25,
   "id": "d13205d4-39ec-4435-bd66-d1aefea68513",
   "metadata": {},
   "outputs": [],
   "source": [
    "# Exercise 2: Create a numpy array containing the numbers from 1 to 20, and then extract the elements between the 5th and 15th index"
   ]
  },
  {
   "cell_type": "code",
   "execution_count": 63,
   "id": "10b7c381-a8ff-44a3-9442-777d4e99627f",
   "metadata": {},
   "outputs": [
    {
     "data": {
      "text/plain": [
       "array([ 0,  1,  2,  3,  4,  5,  6,  7,  8,  9, 10, 11, 12, 13, 14, 15, 16,\n",
       "       17, 18, 19, 20])"
      ]
     },
     "execution_count": 63,
     "metadata": {},
     "output_type": "execute_result"
    }
   ],
   "source": [
    "array_3 = np.arange(0,21)\n",
    "array_3"
   ]
  },
  {
   "cell_type": "code",
   "execution_count": 67,
   "id": "18d8edf1-200e-41c3-a645-ae0c10b88f58",
   "metadata": {},
   "outputs": [
    {
     "data": {
      "text/plain": [
       "array([ 5,  6,  7,  8,  9, 10, 11, 12, 13, 14, 15])"
      ]
     },
     "execution_count": 67,
     "metadata": {},
     "output_type": "execute_result"
    }
   ],
   "source": [
    "array_4 = array_3[5:16]\n",
    "array_4"
   ]
  },
  {
   "cell_type": "code",
   "execution_count": 69,
   "id": "ca3fd6d2-5a1e-4a18-893f-f8a7d5d6115d",
   "metadata": {},
   "outputs": [],
   "source": [
    "# Exercise 3: Create a Pandas series with the following data: {'apples': 3, 'bananas': 2, 'oranges': 1}. Then, add a new item to the series with the key 'pears' and the value"
   ]
  },
  {
   "cell_type": "code",
   "execution_count": 3,
   "id": "94eaa263-633f-40f7-81f7-e2935e274e34",
   "metadata": {},
   "outputs": [],
   "source": [
    "import pandas as pd"
   ]
  },
  {
   "cell_type": "code",
   "execution_count": 7,
   "id": "f6fe3808-3ad7-410f-8f15-fa53632eafee",
   "metadata": {},
   "outputs": [
    {
     "data": {
      "text/plain": [
       "1     apples\n",
       "2    bananas\n",
       "3    oranges\n",
       "dtype: object"
      ]
     },
     "execution_count": 7,
     "metadata": {},
     "output_type": "execute_result"
    }
   ],
   "source": [
    "series_1 = pd.Series(['apples','bananas','oranges'], index= [1,2,3])\n",
    "series_1"
   ]
  },
  {
   "cell_type": "code",
   "execution_count": 17,
   "id": "3c70f86c-f664-4323-b0af-e30c0c057c34",
   "metadata": {},
   "outputs": [
    {
     "data": {
      "text/plain": [
       "1     apples\n",
       "2    bananas\n",
       "3    oranges\n",
       "4      pears\n",
       "dtype: object"
      ]
     },
     "execution_count": 17,
     "metadata": {},
     "output_type": "execute_result"
    }
   ],
   "source": [
    "series_1 = pd.Series(['apples','bananas','oranges'], index= [1,2,3])\n",
    "series_1[4] = 'pears'\n",
    "series_1"
   ]
  },
  {
   "cell_type": "code",
   "execution_count": null,
   "id": "d51e2566-7b49-4e58-bc94-4647969260d5",
   "metadata": {},
   "outputs": [],
   "source": []
  }
 ],
 "metadata": {
  "kernelspec": {
   "display_name": "Python [conda env:base] *",
   "language": "python",
   "name": "conda-base-py"
  },
  "language_info": {
   "codemirror_mode": {
    "name": "ipython",
    "version": 3
   },
   "file_extension": ".py",
   "mimetype": "text/x-python",
   "name": "python",
   "nbconvert_exporter": "python",
   "pygments_lexer": "ipython3",
   "version": "3.12.7"
  }
 },
 "nbformat": 4,
 "nbformat_minor": 5
}
