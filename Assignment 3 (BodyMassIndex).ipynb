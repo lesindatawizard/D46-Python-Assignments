{
 "cells": [
  {
   "cell_type": "code",
   "execution_count": null,
   "id": "412071c5-bcb9-486a-912f-e539c898830d",
   "metadata": {},
   "outputs": [],
   "source": [
    "Height_M2 = float(input(\"Enter Your Height\"))\n",
    "Weight_KG = float(input(\"Enter Your Weight\"))\n",
    "BMI = Weight_KG/Height_M2\n",
    "if BMI < 18.5:\n",
    "    print(\"You are in Underweight Range\")\n",
    "elif 18.5 < BMI <= 29.9:\n",
    "    print(\"You are in Normal Range\")\n",
    "else:\n",
    "    print(\"You are in Overweight Range\")"
   ]
  },
  {
   "cell_type": "code",
   "execution_count": null,
   "id": "2b7ea158-4857-4616-a71d-f86508669f97",
   "metadata": {},
   "outputs": [],
   "source": []
  },
  {
   "cell_type": "code",
   "execution_count": null,
   "id": "e26fdbd3-e8ef-49f4-bf66-d734506b4bb2",
   "metadata": {},
   "outputs": [],
   "source": []
  }
 ],
 "metadata": {
  "kernelspec": {
   "display_name": "Python [conda env:base] *",
   "language": "python",
   "name": "conda-base-py"
  },
  "language_info": {
   "codemirror_mode": {
    "name": "ipython",
    "version": 3
   },
   "file_extension": ".py",
   "mimetype": "text/x-python",
   "name": "python",
   "nbconvert_exporter": "python",
   "pygments_lexer": "ipython3",
   "version": "3.12.7"
  }
 },
 "nbformat": 4,
 "nbformat_minor": 5
}
