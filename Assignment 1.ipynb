{
 "cells": [
  {
   "cell_type": "code",
   "execution_count": 3,
   "id": "5b072a8e-531f-4624-b1c9-15915f85c4c3",
   "metadata": {},
   "outputs": [
    {
     "name": "stdout",
     "output_type": "stream",
     "text": [
      "Lesin Fargan Necholi\n",
      "E7414\n",
      "lesinfn@gmail.com\n"
     ]
    }
   ],
   "source": [
    "#Exercise 1\n",
    "#Write Python code that prints your name, student number and email address.\n",
    "print(\"Lesin Fargan Necholi\")\n",
    "print(\"E7414\")\n",
    "print(\"lesinfn@gmail.com\")"
   ]
  },
  {
   "cell_type": "code",
   "execution_count": 23,
   "id": "6de0fd7e-caa3-4564-98f4-f7bcd25e10f0",
   "metadata": {},
   "outputs": [
    {
     "name": "stdout",
     "output_type": "stream",
     "text": [
      "Lesin Fargan Necholi \n",
      "E7414 \n",
      "lesinfn@gmail.com\n"
     ]
    }
   ],
   "source": [
    "#Exercise 2\n",
    "#Write Python code that prints your name, student number and email address using escape sequences.\n",
    "print(\"Lesin Fargan Necholi \\nE7414 \\nlesinfn@gmail.com\")"
   ]
  },
  {
   "cell_type": "code",
   "execution_count": 27,
   "id": "44e5a027-c2a5-4902-9a92-432cf0c30979",
   "metadata": {},
   "outputs": [
    {
     "name": "stdout",
     "output_type": "stream",
     "text": [
      "22\n",
      "8\n",
      "105\n",
      "2.142857142857143\n"
     ]
    }
   ],
   "source": [
    "#Exercise 3\n",
    "#Write Python code that add, subtract, multiply and divide the two numbers.\n",
    "print(15 + 7)\n",
    "print(15 - 7)\n",
    "print(15 * 7)\n",
    "print(15 / 7)"
   ]
  },
  {
   "cell_type": "code",
   "execution_count": 126,
   "id": "4ac19a5e-9f06-4ee5-a99a-363206a5cedf",
   "metadata": {},
   "outputs": [
    {
     "name": "stdout",
     "output_type": "stream",
     "text": [
      "1\n",
      "2\n",
      "3\n",
      "4\n",
      "5\n"
     ]
    }
   ],
   "source": [
    "#Excercise 4\n",
    "#Write Python code that displays the numbers from 1 to 5 \n",
    "lists = [1,2,3,4,5]\n",
    "for i in lists:\n",
    "    print(i)"
   ]
  },
  {
   "cell_type": "code",
   "execution_count": 69,
   "id": "199dcf27-3a6c-404a-a781-b4720aad5971",
   "metadata": {},
   "outputs": [
    {
     "name": "stdout",
     "output_type": "stream",
     "text": [
      "\"BJP\" stands for \"Bharatiya Janata Party\", whereas \n",
      "\"INC\" stands for \"Indian National Congress\".\n"
     ]
    }
   ],
   "source": [
    "#Exercise 5\n",
    "#Write Python code that outputs the following sentence (including the quotation marks and line break) to the screen\n",
    "print('\"BJP\" stands for \"Bharatiya Janata Party\", whereas \\n\"INC\" stands for \"Indian National Congress\".')"
   ]
  },
  {
   "cell_type": "code",
   "execution_count": 71,
   "id": "6e1762d1-f5fc-4a64-b654-4514703651be",
   "metadata": {},
   "outputs": [
    {
     "name": "stdout",
     "output_type": "stream",
     "text": [
      "python is an \"awesome\" language.\n",
      "python\n",
      "\t2023\n",
      "I'm from Entri\n",
      "5\n",
      "e\n",
      "Entri\n",
      "2023\n",
      "Entr2023\n",
      "Entri*20"
     ]
    }
   ],
   "source": [
    "#Exercise 6\n",
    "#Practice and check the output\n",
    "print(\"python is an \\\"awesome\\\" language.\")\n",
    "print(\"python\\n\\t2023\")\n",
    "print('I\\'m from Entri.\\b')\n",
    "print(\"\\65\")\n",
    "print(\"\\x65\")\n",
    "print(\"Entri\", \"2023\", sep=\"\\n\")\n",
    "print(\"Entri\", \"2023\", sep=\"\\b\")\n",
    "print(\"Entri\", \"2023\", sep=\"*\", end=\"\\b\\b\\b\\b\")"
   ]
  },
  {
   "cell_type": "code",
   "execution_count": 124,
   "id": "def05356-f65b-49fc-9a9a-eb6e823f160a",
   "metadata": {},
   "outputs": [
    {
     "name": "stdout",
     "output_type": "stream",
     "text": [
      "class of num is: <class 'int'>\n",
      "class of textnum is: <class 'str'>\n",
      "class of decimal is: <class 'float'>\n",
      "178.3\n",
      "The class of total is: <class 'float'>\n"
     ]
    }
   ],
   "source": [
    "#Exercise 7\n",
    "#Define the variables below. Print the types of each variable. What is the sum of your variables? (Hint: use a type conversion function.) What datatype is the sum?\n",
    "num=23\n",
    "textnum=\"57\"\n",
    "decimal=98.3\n",
    "print(\"class of num is:\",type(num))\n",
    "print(\"class of textnum is:\",type(textnum))\n",
    "print(\"class of decimal is:\",type(decimal))\n",
    "total = num + int(textnum) + decimal\n",
    "print(total)\n",
    "print(\"The class of total is:\",type(total))"
   ]
  },
  {
   "cell_type": "code",
   "execution_count": 94,
   "id": "a8cc91a9-facc-4486-931e-d8ede7232890",
   "metadata": {},
   "outputs": [
    {
     "name": "stdout",
     "output_type": "stream",
     "text": [
      "The total number of minutes in a year = 525600\n"
     ]
    }
   ],
   "source": [
    "#Exercise 8\n",
    "#calculate the number of minutes in a year using variables for each unit of time. print a statement that describes what your code does also. Create three variables to store no of days in a year, minute in a hour, hours in a day, then calculate the total minutes in a year and print the values.\n",
    "minutes = 60\n",
    "hours = 24\n",
    "days = 365\n",
    "print(\"The total number of minutes in a year =\", minutes * hours * days)"
   ]
  },
  {
   "cell_type": "code",
   "execution_count": 104,
   "id": "3a2d4a51-0bdf-452b-a702-f4096faa9d8f",
   "metadata": {},
   "outputs": [
    {
     "name": "stdin",
     "output_type": "stream",
     "text": [
      "Please Enter your Name Lesin Fargan Necholi\n"
     ]
    },
    {
     "name": "stdout",
     "output_type": "stream",
     "text": [
      "Hi Lesin Fargan Necholi , Welcome to python Programming\n"
     ]
    }
   ],
   "source": [
    "#Exercise 9\n",
    "#Write Python code that asks the user to enter his/her name and then output/prints his/her name with a greeting.\n",
    "name = (input(\"Please Enter your Name\"))\n",
    "print(\"Hi\", name,\",\",\"Welcome to python Programming\")"
   ]
  },
  {
   "cell_type": "code",
   "execution_count": null,
   "id": "6356fe96-b596-4f2f-af35-c1263244e78b",
   "metadata": {},
   "outputs": [],
   "source": []
  }
 ],
 "metadata": {
  "kernelspec": {
   "display_name": "Python [conda env:base] *",
   "language": "python",
   "name": "conda-base-py"
  },
  "language_info": {
   "codemirror_mode": {
    "name": "ipython",
    "version": 3
   },
   "file_extension": ".py",
   "mimetype": "text/x-python",
   "name": "python",
   "nbconvert_exporter": "python",
   "pygments_lexer": "ipython3",
   "version": "3.12.7"
  }
 },
 "nbformat": 4,
 "nbformat_minor": 5
}
