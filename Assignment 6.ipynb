{
 "cells": [
  {
   "cell_type": "code",
   "execution_count": 1,
   "id": "258fcaee-d694-40c0-8566-831bd9876e75",
   "metadata": {},
   "outputs": [],
   "source": [
    "# Exercise 1:  Build a program to manage a university's course catalog. You want to define a base class Course that has the following properties: course_code: a string representing the course code (e.g., \"CS101\") course_name: a string representing the course name (e.g., \"Introduction to Computer Science\") credit_hours: an integer representing the credit hours for the course (e.g., 3) You also want to define two subclasses CoreCourse and ElectiveCourse, which inherit from the Course class. CoreCourse should have an additional property required_for_major which is a boolean representing whether the course is required for a particular major. ElectiveCourse should have an additional property elective_type which is a string representing the type of elective (e.g., \"general\", \"technical\", \"liberal arts\")."
   ]
  },
  {
   "cell_type": "code",
   "execution_count": 23,
   "id": "870d782d-190a-443d-a581-72c67dcc2aa1",
   "metadata": {},
   "outputs": [],
   "source": [
    "class course:\n",
    "    def __init__(self,course_code,course_name,credit_hours):\n",
    "        self.course_code = course_code\n",
    "        self.course_name = course_name\n",
    "        self.credit_hours = credit_hours\n",
    "    def coursedetails(self):\n",
    "        return f'The code of the course is {self.course_code}, The name of the course is {self.course_name}, and the credit hours of the course is {self.credit_hours}.'"
   ]
  },
  {
   "cell_type": "code",
   "execution_count": 25,
   "id": "381b073f-8004-47f9-abb0-42814a9d1bef",
   "metadata": {},
   "outputs": [],
   "source": [
    "cr1 = course('CS101','Introduction to CS',3)\n",
    "cr2 = course('CS102','Introduction to Python',2)\n",
    "cr3 = course('CS103','Introduction to SQL ',4)\n",
    "cr4 = course('CS104','Introduction to PowerBI',3)\n",
    "cr5 = course('CS105','Introduction to Excel',2)"
   ]
  },
  {
   "cell_type": "code",
   "execution_count": 27,
   "id": "c593ad73-ad15-4295-b96f-dd846207a05d",
   "metadata": {},
   "outputs": [
    {
     "name": "stdout",
     "output_type": "stream",
     "text": [
      "CS105 The code of the course is CS103, The name of the course is Introduction to SQL , and the credit hours of the course is 4.\n"
     ]
    }
   ],
   "source": [
    "print(cr5.course_code, cr3.coursedetails())"
   ]
  },
  {
   "cell_type": "code",
   "execution_count": 55,
   "id": "dbb9e63e-4876-49c1-b4dc-5dba65af47ec",
   "metadata": {},
   "outputs": [],
   "source": [
    "class corecourse(course):\n",
    "    def __init__(self,course_code,course_name,credit_hours,required_for_major):\n",
    "        super().__init__(course_code,course_name,credit_hours)\n",
    "        self.required_for_major = required_for_major\n",
    "\n",
    "class electivecourse(course):\n",
    "    def __init__(self,course_code,course_name,credit_hours,elective_type):\n",
    "        super().__init__(course_code,course_name,credit_hours)\n",
    "        self.elective_type = elective_type"
   ]
  },
  {
   "cell_type": "code",
   "execution_count": 69,
   "id": "590b0168-8f37-4a65-913f-6731d1883a16",
   "metadata": {},
   "outputs": [],
   "source": [
    "cr1 = corecourse(\"CS101\", \"Introduction to CS\",3,True)\n",
    "cr2 = electivecourse(\"CS102\", \"Introduction to Python\", 2, \"technical\")"
   ]
  },
  {
   "cell_type": "code",
   "execution_count": 71,
   "id": "3b4b8292-3e5c-4d69-984f-60bba176c756",
   "metadata": {},
   "outputs": [
    {
     "name": "stdout",
     "output_type": "stream",
     "text": [
      "Core Course: CS101 - Introduction to CS, Credit Hours: 3, Required: True\n",
      "Elective Course: CS102 - Introduction to Python, Credit Hours: 2, Type: technical\n"
     ]
    }
   ],
   "source": [
    "print(f'Core Course: {cr1.course_code} - {cr1.course_name}, Credit Hours: {cr1.credit_hours}, Required: {cr1.required_for_major}')\n",
    "print(f'Elective Course: {cr2.course_code} - {cr2.course_name}, Credit Hours: {cr2.credit_hours}, Type: {cr2.elective_type}')"
   ]
  },
  {
   "cell_type": "code",
   "execution_count": null,
   "id": "d0a5cc07-a635-4547-8e15-0158b6875369",
   "metadata": {},
   "outputs": [],
   "source": []
  }
 ],
 "metadata": {
  "kernelspec": {
   "display_name": "Python [conda env:base] *",
   "language": "python",
   "name": "conda-base-py"
  },
  "language_info": {
   "codemirror_mode": {
    "name": "ipython",
    "version": 3
   },
   "file_extension": ".py",
   "mimetype": "text/x-python",
   "name": "python",
   "nbconvert_exporter": "python",
   "pygments_lexer": "ipython3",
   "version": "3.12.7"
  }
 },
 "nbformat": 4,
 "nbformat_minor": 5
}
