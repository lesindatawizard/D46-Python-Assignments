{
 "cells": [
  {
   "cell_type": "code",
   "execution_count": 1,
   "id": "1aadcb75-c3d2-4bc4-8124-61dd50cbfdfe",
   "metadata": {},
   "outputs": [],
   "source": [
    "#List Exercise"
   ]
  },
  {
   "cell_type": "code",
   "execution_count": 3,
   "id": "e70e90db-e81d-46ce-be9c-cdfe7db457de",
   "metadata": {},
   "outputs": [],
   "source": [
    "#Q1. Create a list of 5 random numbers and print the list."
   ]
  },
  {
   "cell_type": "code",
   "execution_count": 18,
   "id": "2b207683-fbc1-46da-a756-1edc11119cdd",
   "metadata": {},
   "outputs": [
    {
     "data": {
      "text/plain": [
       "['Lesin', 'Rino', 'Ubaid', 'Shammas', 'Ashnad']"
      ]
     },
     "execution_count": 18,
     "metadata": {},
     "output_type": "execute_result"
    }
   ],
   "source": [
    "list = ['Lesin','Rino','Ubaid','Shammas','Ashnad']\n",
    "list"
   ]
  },
  {
   "cell_type": "code",
   "execution_count": 20,
   "id": "a47457ec-c265-479c-9417-72f5f1b1ac79",
   "metadata": {},
   "outputs": [
    {
     "data": {
      "text/plain": [
       "list"
      ]
     },
     "execution_count": 20,
     "metadata": {},
     "output_type": "execute_result"
    }
   ],
   "source": [
    "type(list)"
   ]
  },
  {
   "cell_type": "code",
   "execution_count": 42,
   "id": "61c960ea-dc25-4ae8-ba96-03304247db11",
   "metadata": {},
   "outputs": [],
   "source": [
    "#Q2. Insert 3 new values to the list and print the updated list."
   ]
  },
  {
   "cell_type": "code",
   "execution_count": 18,
   "id": "8fa53fab-be6c-4dac-bbd5-e85c5cd809ce",
   "metadata": {},
   "outputs": [
    {
     "data": {
      "text/plain": [
       "['Lesin', 'Rino', 'Ubaid', 'Shammas', 'Ashnad', 'Joel', 'Aadithya', 'Umer']"
      ]
     },
     "execution_count": 18,
     "metadata": {},
     "output_type": "execute_result"
    }
   ],
   "source": [
    "list = ['Lesin','Rino','Ubaid','Shammas','Ashnad']\n",
    "list.extend(['Joel','Aadithya','Umer'])\n",
    "list"
   ]
  },
  {
   "cell_type": "code",
   "execution_count": null,
   "id": "175f0326-9f71-408b-b0d5-f4f3d0046dc8",
   "metadata": {},
   "outputs": [],
   "source": [
    "#Q3. Try to use a for loop to print each element in the list."
   ]
  },
  {
   "cell_type": "code",
   "execution_count": 24,
   "id": "bd34c1ac-b28f-406d-a431-0e106d4a9272",
   "metadata": {},
   "outputs": [
    {
     "name": "stdout",
     "output_type": "stream",
     "text": [
      "The name of the student is: Lesin\n",
      "The name of the student is: Rino\n",
      "The name of the student is: Ubaid\n",
      "The name of the student is: Shammas\n",
      "The name of the student is: Ashnad\n",
      "The name of the student is: Joel\n",
      "The name of the student is: Aadithya\n",
      "The name of the student is: Umer\n"
     ]
    }
   ],
   "source": [
    "for i in list:\n",
    "  print('The name of the student is:',i)"
   ]
  },
  {
   "cell_type": "code",
   "execution_count": 30,
   "id": "0611d6c6-0b92-44cf-b59a-dfbe9bafd637",
   "metadata": {},
   "outputs": [],
   "source": [
    "#Dictionary Exercise"
   ]
  },
  {
   "cell_type": "code",
   "execution_count": null,
   "id": "2b77a56e-9975-45db-bea9-d587f9cc0166",
   "metadata": {},
   "outputs": [],
   "source": [
    "#Q1. Create a dictionary with keys 'name', 'age', and 'address' and values 'John', 25, and 'New York' respectively."
   ]
  },
  {
   "cell_type": "code",
   "execution_count": 1,
   "id": "ee819da5-0d7a-45bc-b7b7-662a2983e1e0",
   "metadata": {},
   "outputs": [
    {
     "data": {
      "text/plain": [
       "{'Name': 'John', 'Age': 25, 'Address': 'New York'}"
      ]
     },
     "execution_count": 1,
     "metadata": {},
     "output_type": "execute_result"
    }
   ],
   "source": [
    "Info = {'Name':'John','Age':25,'Address':'New York'}\n",
    "Info"
   ]
  },
  {
   "cell_type": "code",
   "execution_count": 5,
   "id": "68c77bb0-95c4-49cd-807c-59a3bbf68c40",
   "metadata": {},
   "outputs": [
    {
     "name": "stdout",
     "output_type": "stream",
     "text": [
      "The Dictionary of John is {'Name': 'John', 'Age': 25, 'Address': 'New York'}\n"
     ]
    }
   ],
   "source": [
    "print('The Dictionary of John is', Info)"
   ]
  },
  {
   "cell_type": "code",
   "execution_count": 9,
   "id": "35ff4f8b-0c20-453e-9e09-c12c177a9790",
   "metadata": {},
   "outputs": [
    {
     "data": {
      "text/plain": [
       "dict_keys(['Name', 'Age', 'Address'])"
      ]
     },
     "execution_count": 9,
     "metadata": {},
     "output_type": "execute_result"
    }
   ],
   "source": [
    "Info.keys()"
   ]
  },
  {
   "cell_type": "code",
   "execution_count": 11,
   "id": "2604079b-2900-4d31-80df-4bb026b0340c",
   "metadata": {},
   "outputs": [
    {
     "data": {
      "text/plain": [
       "dict_values(['John', 25, 'New York'])"
      ]
     },
     "execution_count": 11,
     "metadata": {},
     "output_type": "execute_result"
    }
   ],
   "source": [
    "Info.values()"
   ]
  },
  {
   "cell_type": "code",
   "execution_count": 15,
   "id": "757d4a0e-92ff-4b45-8c9a-ce3dc7dba815",
   "metadata": {},
   "outputs": [],
   "source": [
    "#Q2. Add a new key-value pair to the dictionary created in Q1 with key 'phone' and value '1234567890'."
   ]
  },
  {
   "cell_type": "code",
   "execution_count": 19,
   "id": "c2590f0d-6428-42c7-8c96-42c87b58b10a",
   "metadata": {},
   "outputs": [
    {
     "data": {
      "text/plain": [
       "{'Name': 'John', 'Age': 25, 'Address': 'New York', 'Phone': 1234567890}"
      ]
     },
     "execution_count": 19,
     "metadata": {},
     "output_type": "execute_result"
    }
   ],
   "source": [
    "Info.update({'Phone':1234567890})\n",
    "Info"
   ]
  },
  {
   "cell_type": "code",
   "execution_count": 21,
   "id": "765132e4-a7a1-4492-87f6-88c2ca970b72",
   "metadata": {},
   "outputs": [],
   "source": [
    "#Set Exercise"
   ]
  },
  {
   "cell_type": "code",
   "execution_count": 23,
   "id": "21f7b671-7dc7-432f-b0f3-c25d843f94c6",
   "metadata": {},
   "outputs": [],
   "source": [
    "#Q1.Create a set with values 1, 2, 3, 4, and 5."
   ]
  },
  {
   "cell_type": "code",
   "execution_count": 37,
   "id": "d8caf896-5cd4-4849-bd1f-0114a959c329",
   "metadata": {},
   "outputs": [
    {
     "name": "stdout",
     "output_type": "stream",
     "text": [
      "{1, 2, 3, 4, 5}\n"
     ]
    }
   ],
   "source": [
    "set = {1,2,3,4,5}\n",
    "print(set)"
   ]
  },
  {
   "cell_type": "code",
   "execution_count": 39,
   "id": "ff7fa902-7b54-4732-b1a2-51c5a45e820d",
   "metadata": {},
   "outputs": [
    {
     "data": {
      "text/plain": [
       "set"
      ]
     },
     "execution_count": 39,
     "metadata": {},
     "output_type": "execute_result"
    }
   ],
   "source": [
    "type(set)"
   ]
  },
  {
   "cell_type": "code",
   "execution_count": 41,
   "id": "ce39ec8f-b68b-423a-9132-3c14e86df898",
   "metadata": {},
   "outputs": [],
   "source": [
    "#Q2. Add the value 6 to the set created in Q1."
   ]
  },
  {
   "cell_type": "code",
   "execution_count": 45,
   "id": "9310b4f8-a949-4cf2-93ff-86afa6890a58",
   "metadata": {},
   "outputs": [
    {
     "data": {
      "text/plain": [
       "{1, 2, 3, 4, 5, 6}"
      ]
     },
     "execution_count": 45,
     "metadata": {},
     "output_type": "execute_result"
    }
   ],
   "source": [
    "set.add(6)\n",
    "set"
   ]
  },
  {
   "cell_type": "code",
   "execution_count": 47,
   "id": "459b4331-afbc-4e35-bc21-8d8a5ebb3b69",
   "metadata": {},
   "outputs": [],
   "source": [
    "#Q3. Remove the value 3 from the set created in Q1."
   ]
  },
  {
   "cell_type": "code",
   "execution_count": 51,
   "id": "053dc811-52e9-448d-ae40-5aa9fa45de6d",
   "metadata": {},
   "outputs": [
    {
     "data": {
      "text/plain": [
       "{1, 2, 3, 4, 5}"
      ]
     },
     "execution_count": 51,
     "metadata": {},
     "output_type": "execute_result"
    }
   ],
   "source": [
    "set.remove(6)\n",
    "set"
   ]
  },
  {
   "cell_type": "code",
   "execution_count": 53,
   "id": "53907c5e-e595-4164-97f9-ca36c53d3c18",
   "metadata": {},
   "outputs": [],
   "source": [
    "#Tuple Exercise"
   ]
  },
  {
   "cell_type": "code",
   "execution_count": 55,
   "id": "a0328946-cb72-4c74-81a4-124ad4585ea2",
   "metadata": {},
   "outputs": [],
   "source": [
    "#Q1. Create a tuple with values 1, 2, 3, and 4"
   ]
  },
  {
   "cell_type": "code",
   "execution_count": 57,
   "id": "559646df-2b64-4a0e-890b-c552650d5030",
   "metadata": {},
   "outputs": [
    {
     "data": {
      "text/plain": [
       "(1, 2, 3, 4)"
      ]
     },
     "execution_count": 57,
     "metadata": {},
     "output_type": "execute_result"
    }
   ],
   "source": [
    "tuple = (1,2,3,4)\n",
    "tuple"
   ]
  },
  {
   "cell_type": "code",
   "execution_count": 59,
   "id": "fc33bf37-1ff4-4c5c-b489-113e9af6ba0e",
   "metadata": {},
   "outputs": [
    {
     "data": {
      "text/plain": [
       "tuple"
      ]
     },
     "execution_count": 59,
     "metadata": {},
     "output_type": "execute_result"
    }
   ],
   "source": [
    "type(tuple)"
   ]
  },
  {
   "cell_type": "code",
   "execution_count": 61,
   "id": "e12859de-3c08-454c-ae9c-c174da109ce4",
   "metadata": {},
   "outputs": [],
   "source": [
    "#Q2. Print the length of the tuple created in Q1."
   ]
  },
  {
   "cell_type": "code",
   "execution_count": 63,
   "id": "4bde3303-a311-4d60-ba54-7233ff1e5c61",
   "metadata": {},
   "outputs": [
    {
     "data": {
      "text/plain": [
       "4"
      ]
     },
     "execution_count": 63,
     "metadata": {},
     "output_type": "execute_result"
    }
   ],
   "source": [
    "len(tuple)"
   ]
  },
  {
   "cell_type": "code",
   "execution_count": null,
   "id": "23e0f1de-f97d-4817-9e7a-4a4672c35c7a",
   "metadata": {},
   "outputs": [],
   "source": []
  }
 ],
 "metadata": {
  "kernelspec": {
   "display_name": "Python [conda env:base] *",
   "language": "python",
   "name": "conda-base-py"
  },
  "language_info": {
   "codemirror_mode": {
    "name": "ipython",
    "version": 3
   },
   "file_extension": ".py",
   "mimetype": "text/x-python",
   "name": "python",
   "nbconvert_exporter": "python",
   "pygments_lexer": "ipython3",
   "version": "3.12.7"
  }
 },
 "nbformat": 4,
 "nbformat_minor": 5
}
